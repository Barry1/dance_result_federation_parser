{
 "cells": [
  {
   "cell_type": "code",
   "execution_count": 3,
   "id": "5df545b9",
   "metadata": {},
   "outputs": [],
   "source": [
    "THEURL = (\n",
    "    \"https://ergebnisse.dancecomp.de/2023/4-3006_wdsfopenstdsen2/index.htm\"\n",
    ")"
   ]
  },
  {
   "cell_type": "code",
   "execution_count": 4,
   "id": "b4b5da30",
   "metadata": {},
   "outputs": [
    {
     "ename": "ModuleNotFoundError",
     "evalue": "No module named 'lxml'",
     "output_type": "error",
     "traceback": [
      "\u001b[0;31m---------------------------------------------------------------------------\u001b[0m",
      "\u001b[0;31mModuleNotFoundError\u001b[0m                       Traceback (most recent call last)",
      "Cell \u001b[0;32mIn[4], line 1\u001b[0m\n\u001b[0;32m----> 1\u001b[0m \u001b[38;5;28;01mfrom\u001b[39;00m \u001b[38;5;21;01mdance_result_federation_parser\u001b[39;00m \u001b[38;5;28;01mimport\u001b[39;00m interpret_tt_result\n",
      "File \u001b[0;32m~/GitHub/dance_result_federation_parser/dance_result_federation_parser.py:18\u001b[0m\n\u001b[1;32m     15\u001b[0m \u001b[38;5;28;01mfrom\u001b[39;00m \u001b[38;5;21;01mjoblib\u001b[39;00m \u001b[38;5;28;01mimport\u001b[39;00m Parallel, delayed\n\u001b[1;32m     17\u001b[0m \u001b[38;5;66;03m# noinspection PyProtectedMember\u001b[39;00m\n\u001b[0;32m---> 18\u001b[0m \u001b[38;5;28;01mfrom\u001b[39;00m \u001b[38;5;21;01mlxml\u001b[39;00m\u001b[38;5;21;01m.\u001b[39;00m\u001b[38;5;21;01metree\u001b[39;00m \u001b[38;5;28;01mimport\u001b[39;00m _ElementTree\n\u001b[1;32m     20\u001b[0m \u001b[38;5;66;03m# import lxml.etree\u001b[39;00m\n\u001b[1;32m     21\u001b[0m \u001b[38;5;28;01mfrom\u001b[39;00m \u001b[38;5;21;01mlxml\u001b[39;00m\u001b[38;5;21;01m.\u001b[39;00m\u001b[38;5;21;01mhtml\u001b[39;00m \u001b[38;5;28;01mimport\u001b[39;00m parse\n",
      "\u001b[0;31mModuleNotFoundError\u001b[0m: No module named 'lxml'"
     ]
    }
   ],
   "source": [
    "from dance_result_federation_parser import interpret_tt_result"
   ]
  },
  {
   "cell_type": "code",
   "execution_count": null,
   "id": "3f4b1935",
   "metadata": {},
   "outputs": [],
   "source": [
    "interpret_tt_result(THEURL)"
   ]
  },
  {
   "cell_type": "code",
   "execution_count": null,
   "id": "73f0c2eb",
   "metadata": {},
   "outputs": [],
   "source": []
  }
 ],
 "metadata": {
  "kernelspec": {
   "display_name": "Python 3 (ipykernel)",
   "language": "python",
   "name": "python3"
  },
  "language_info": {
   "codemirror_mode": {
    "name": "ipython",
    "version": 3
   },
   "file_extension": ".py",
   "mimetype": "text/x-python",
   "name": "python",
   "nbconvert_exporter": "python",
   "pygments_lexer": "ipython3",
   "version": "3.11.3"
  }
 },
 "nbformat": 4,
 "nbformat_minor": 5
}
