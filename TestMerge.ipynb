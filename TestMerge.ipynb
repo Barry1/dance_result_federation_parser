{
 "cells": [
  {
   "cell_type": "code",
   "execution_count": 1,
   "id": "5df545b9",
   "metadata": {},
   "outputs": [],
   "source": [
    "THEURL = (\n",
    "    \"https://ergebnisse.dancecomp.de/2023/4-3006_wdsfopenstdsen2/index.htm\"\n",
    ")"
   ]
  },
  {
   "cell_type": "code",
   "execution_count": 2,
   "id": "b4b5da30",
   "metadata": {},
   "outputs": [],
   "source": [
    "from dance_result_federation_parser import interpret_tt_result"
   ]
  },
  {
   "cell_type": "code",
   "execution_count": 4,
   "id": "3f4b1935",
   "metadata": {},
   "outputs": [],
   "source": [
    "a = interpret_tt_result(THEURL)"
   ]
  },
  {
   "cell_type": "code",
   "execution_count": 6,
   "id": "f3b04f06",
   "metadata": {},
   "outputs": [],
   "source": [
    "a"
   ]
  },
  {
   "cell_type": "code",
   "execution_count": null,
   "id": "73f0c2eb",
   "metadata": {},
   "outputs": [],
   "source": []
  }
 ],
 "metadata": {
  "kernelspec": {
   "display_name": "Python 3 (ipykernel)",
   "language": "python",
   "name": "python3"
  },
  "language_info": {
   "codemirror_mode": {
    "name": "ipython",
    "version": 3
   },
   "file_extension": ".py",
   "mimetype": "text/x-python",
   "name": "python",
   "nbconvert_exporter": "python",
   "pygments_lexer": "ipython3",
   "version": "3.11.3"
  }
 },
 "nbformat": 4,
 "nbformat_minor": 5
}
